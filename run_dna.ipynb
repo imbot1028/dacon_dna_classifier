{
 "cells": [
  {
   "cell_type": "code",
   "execution_count": 13,
   "metadata": {},
   "outputs": [],
   "source": [
    "import pandas as pd\n",
    "import random\n",
    "import os\n",
    "import numpy as np\n",
    "\n",
    "from sklearn.ensemble import RandomForestClassifier #Random Forest\n",
    "from sklearn import preprocessing"
   ]
  },
  {
   "cell_type": "code",
   "execution_count": 14,
   "metadata": {},
   "outputs": [],
   "source": [
    "model = RandomForestClassifier(\n",
    "            n_estimators = 200, ## 붓스트랩 샘플 개수 또는 base_estimator 개수\n",
    "            max_depth= None, ## 개별 나무의 최대 깊이\n",
    "            max_features= 5,\n",
    "            random_state=100)"
   ]
  },
  {
   "cell_type": "code",
   "execution_count": 15,
   "metadata": {},
   "outputs": [],
   "source": [
    "raw_data = pd.read_csv('./dataset/train.csv')\n",
    "data = raw_data.copy()"
   ]
  },
  {
   "cell_type": "code",
   "execution_count": 16,
   "metadata": {},
   "outputs": [
    {
     "name": "stdout",
     "output_type": "stream",
     "text": [
      "<class 'pandas.core.frame.DataFrame'>\n",
      "RangeIndex: 262 entries, 0 to 261\n",
      "Data columns (total 17 columns):\n",
      " #   Column  Non-Null Count  Dtype \n",
      "---  ------  --------------  ----- \n",
      " 0   trait   262 non-null    int64 \n",
      " 1   SNP_01  262 non-null    object\n",
      " 2   SNP_02  262 non-null    object\n",
      " 3   SNP_03  262 non-null    object\n",
      " 4   SNP_04  262 non-null    object\n",
      " 5   SNP_05  262 non-null    object\n",
      " 6   SNP_06  262 non-null    object\n",
      " 7   SNP_07  262 non-null    object\n",
      " 8   SNP_08  262 non-null    object\n",
      " 9   SNP_09  262 non-null    object\n",
      " 10  SNP_10  262 non-null    object\n",
      " 11  SNP_11  262 non-null    object\n",
      " 12  SNP_12  262 non-null    object\n",
      " 13  SNP_13  262 non-null    object\n",
      " 14  SNP_14  262 non-null    object\n",
      " 15  SNP_15  262 non-null    object\n",
      " 16  class   262 non-null    object\n",
      "dtypes: int64(1), object(16)\n",
      "memory usage: 34.9+ KB\n"
     ]
    }
   ],
   "source": [
    "data= data.drop(columns=['father','mother','gender','id'])\n",
    "data.info()"
   ]
  },
  {
   "cell_type": "code",
   "execution_count": 17,
   "metadata": {},
   "outputs": [
    {
     "data": {
      "text/html": [
       "<div>\n",
       "<style scoped>\n",
       "    .dataframe tbody tr th:only-of-type {\n",
       "        vertical-align: middle;\n",
       "    }\n",
       "\n",
       "    .dataframe tbody tr th {\n",
       "        vertical-align: top;\n",
       "    }\n",
       "\n",
       "    .dataframe thead th {\n",
       "        text-align: right;\n",
       "    }\n",
       "</style>\n",
       "<table border=\"1\" class=\"dataframe\">\n",
       "  <thead>\n",
       "    <tr style=\"text-align: right;\">\n",
       "      <th></th>\n",
       "      <th>class</th>\n",
       "    </tr>\n",
       "  </thead>\n",
       "  <tbody>\n",
       "    <tr>\n",
       "      <th>0</th>\n",
       "      <td>B</td>\n",
       "    </tr>\n",
       "    <tr>\n",
       "      <th>1</th>\n",
       "      <td>C</td>\n",
       "    </tr>\n",
       "    <tr>\n",
       "      <th>2</th>\n",
       "      <td>B</td>\n",
       "    </tr>\n",
       "    <tr>\n",
       "      <th>3</th>\n",
       "      <td>A</td>\n",
       "    </tr>\n",
       "    <tr>\n",
       "      <th>4</th>\n",
       "      <td>C</td>\n",
       "    </tr>\n",
       "  </tbody>\n",
       "</table>\n",
       "</div>"
      ],
      "text/plain": [
       "  class\n",
       "0     B\n",
       "1     C\n",
       "2     B\n",
       "3     A\n",
       "4     C"
      ]
     },
     "execution_count": 17,
     "metadata": {},
     "output_type": "execute_result"
    }
   ],
   "source": [
    "x_data = data.iloc[:,0:16]\n",
    "y_data = data.iloc[:,16:17]\n",
    "x_test = pd.read_csv('./dataset/test.csv')\n",
    "x_test = x_test.drop(columns = ['id','father','mother','gender'])\n",
    "y_data.head()"
   ]
  },
  {
   "cell_type": "code",
   "execution_count": 18,
   "metadata": {},
   "outputs": [],
   "source": [
    "class_le = preprocessing.LabelEncoder()\n",
    "snp_le = preprocessing.LabelEncoder()\n",
    "snp_col = [f'SNP_{str(x).zfill(2)}' for x in range(1,16)]"
   ]
  },
  {
   "cell_type": "code",
   "execution_count": 19,
   "metadata": {},
   "outputs": [
    {
     "name": "stderr",
     "output_type": "stream",
     "text": [
      "/Users/imbot/miniforge3/lib/python3.9/site-packages/sklearn/preprocessing/_label.py:115: DataConversionWarning: A column-vector y was passed when a 1d array was expected. Please change the shape of y to (n_samples, ), for example using ravel().\n",
      "  y = column_or_1d(y, warn=True)\n"
     ]
    }
   ],
   "source": [
    "snp_data = []\n",
    "for col in snp_col:\n",
    "    snp_data += list(x_data[col].values)\n",
    "y_data = class_le.fit_transform(y_data)\n",
    "snp_le.fit(snp_data)\n",
    "\n",
    "for col in x_data.columns:\n",
    "    if col in snp_col:\n",
    "        x_data[col] = snp_le.transform(x_data[col])\n",
    "        x_test[col] = snp_le.transform(x_test[col])"
   ]
  },
  {
   "cell_type": "code",
   "execution_count": 20,
   "metadata": {},
   "outputs": [],
   "source": [
    "model.fit(x_data,y_data)\n",
    "preds = model.predict(x_test)"
   ]
  },
  {
   "cell_type": "code",
   "execution_count": 21,
   "metadata": {},
   "outputs": [],
   "source": [
    "submit = pd.read_csv('./dataset/sample_submission.csv')\n",
    "submit['class'] = class_le.inverse_transform(preds)\n",
    "submit.to_csv('./dataset/submit.csv', index=False)"
   ]
  }
 ],
 "metadata": {
  "kernelspec": {
   "display_name": "base",
   "language": "python",
   "name": "python3"
  },
  "language_info": {
   "codemirror_mode": {
    "name": "ipython",
    "version": 3
   },
   "file_extension": ".py",
   "mimetype": "text/x-python",
   "name": "python",
   "nbconvert_exporter": "python",
   "pygments_lexer": "ipython3",
   "version": "3.9.13 | packaged by conda-forge | (main, May 27 2022, 17:00:33) \n[Clang 13.0.1 ]"
  },
  "orig_nbformat": 4,
  "vscode": {
   "interpreter": {
    "hash": "6b921c805efb5a632375e577b3e33d338c143f0ce160c7afb22588d0b5f12378"
   }
  }
 },
 "nbformat": 4,
 "nbformat_minor": 2
}
