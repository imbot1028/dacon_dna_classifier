{
 "cells": [
  {
   "attachments": {},
   "cell_type": "markdown",
   "metadata": {},
   "source": [
    "## pretrained model 사용"
   ]
  },
  {
   "cell_type": "code",
   "execution_count": 8,
   "metadata": {},
   "outputs": [],
   "source": [
    "import pandas as pd\n",
    "import numpy as np\n",
    "from sklearn import preprocessing\n",
    "from sklearn.ensemble import RandomForestClassifier"
   ]
  },
  {
   "cell_type": "code",
   "execution_count": 9,
   "metadata": {},
   "outputs": [],
   "source": [
    "raw_data = pd.read_csv('./dataset/train.csv')"
   ]
  },
  {
   "cell_type": "code",
   "execution_count": 10,
   "metadata": {},
   "outputs": [
    {
     "data": {
      "text/html": [
       "<div>\n",
       "<style scoped>\n",
       "    .dataframe tbody tr th:only-of-type {\n",
       "        vertical-align: middle;\n",
       "    }\n",
       "\n",
       "    .dataframe tbody tr th {\n",
       "        vertical-align: top;\n",
       "    }\n",
       "\n",
       "    .dataframe thead th {\n",
       "        text-align: right;\n",
       "    }\n",
       "</style>\n",
       "<table border=\"1\" class=\"dataframe\">\n",
       "  <thead>\n",
       "    <tr style=\"text-align: right;\">\n",
       "      <th></th>\n",
       "      <th>trait</th>\n",
       "      <th>SNP_01</th>\n",
       "      <th>SNP_02</th>\n",
       "      <th>SNP_03</th>\n",
       "      <th>SNP_04</th>\n",
       "      <th>SNP_05</th>\n",
       "      <th>SNP_06</th>\n",
       "      <th>SNP_07</th>\n",
       "      <th>SNP_08</th>\n",
       "      <th>SNP_09</th>\n",
       "      <th>SNP_10</th>\n",
       "      <th>SNP_11</th>\n",
       "      <th>SNP_12</th>\n",
       "      <th>SNP_13</th>\n",
       "      <th>SNP_14</th>\n",
       "      <th>SNP_15</th>\n",
       "      <th>class</th>\n",
       "    </tr>\n",
       "  </thead>\n",
       "  <tbody>\n",
       "    <tr>\n",
       "      <th>0</th>\n",
       "      <td>2</td>\n",
       "      <td>G G</td>\n",
       "      <td>A G</td>\n",
       "      <td>A A</td>\n",
       "      <td>G A</td>\n",
       "      <td>C A</td>\n",
       "      <td>A A</td>\n",
       "      <td>A A</td>\n",
       "      <td>G G</td>\n",
       "      <td>A A</td>\n",
       "      <td>G G</td>\n",
       "      <td>A G</td>\n",
       "      <td>A A</td>\n",
       "      <td>A A</td>\n",
       "      <td>A A</td>\n",
       "      <td>A A</td>\n",
       "      <td>B</td>\n",
       "    </tr>\n",
       "    <tr>\n",
       "      <th>1</th>\n",
       "      <td>2</td>\n",
       "      <td>A G</td>\n",
       "      <td>A G</td>\n",
       "      <td>C A</td>\n",
       "      <td>A A</td>\n",
       "      <td>A A</td>\n",
       "      <td>A G</td>\n",
       "      <td>A A</td>\n",
       "      <td>G A</td>\n",
       "      <td>A A</td>\n",
       "      <td>A G</td>\n",
       "      <td>A A</td>\n",
       "      <td>G A</td>\n",
       "      <td>G G</td>\n",
       "      <td>A A</td>\n",
       "      <td>A A</td>\n",
       "      <td>C</td>\n",
       "    </tr>\n",
       "    <tr>\n",
       "      <th>2</th>\n",
       "      <td>2</td>\n",
       "      <td>G G</td>\n",
       "      <td>G G</td>\n",
       "      <td>A A</td>\n",
       "      <td>G A</td>\n",
       "      <td>C C</td>\n",
       "      <td>G G</td>\n",
       "      <td>A A</td>\n",
       "      <td>G A</td>\n",
       "      <td>G A</td>\n",
       "      <td>A G</td>\n",
       "      <td>A A</td>\n",
       "      <td>A A</td>\n",
       "      <td>A A</td>\n",
       "      <td>A A</td>\n",
       "      <td>A A</td>\n",
       "      <td>B</td>\n",
       "    </tr>\n",
       "    <tr>\n",
       "      <th>3</th>\n",
       "      <td>1</td>\n",
       "      <td>A A</td>\n",
       "      <td>G G</td>\n",
       "      <td>A A</td>\n",
       "      <td>G A</td>\n",
       "      <td>A A</td>\n",
       "      <td>G G</td>\n",
       "      <td>G G</td>\n",
       "      <td>A A</td>\n",
       "      <td>G G</td>\n",
       "      <td>A G</td>\n",
       "      <td>G G</td>\n",
       "      <td>G G</td>\n",
       "      <td>G G</td>\n",
       "      <td>A A</td>\n",
       "      <td>G G</td>\n",
       "      <td>A</td>\n",
       "    </tr>\n",
       "    <tr>\n",
       "      <th>4</th>\n",
       "      <td>2</td>\n",
       "      <td>G G</td>\n",
       "      <td>G G</td>\n",
       "      <td>C C</td>\n",
       "      <td>A A</td>\n",
       "      <td>C C</td>\n",
       "      <td>A A</td>\n",
       "      <td>A A</td>\n",
       "      <td>A A</td>\n",
       "      <td>A A</td>\n",
       "      <td>G G</td>\n",
       "      <td>A A</td>\n",
       "      <td>A A</td>\n",
       "      <td>A G</td>\n",
       "      <td>A A</td>\n",
       "      <td>G A</td>\n",
       "      <td>C</td>\n",
       "    </tr>\n",
       "  </tbody>\n",
       "</table>\n",
       "</div>"
      ],
      "text/plain": [
       "   trait SNP_01 SNP_02 SNP_03 SNP_04 SNP_05 SNP_06 SNP_07 SNP_08 SNP_09  \\\n",
       "0      2    G G    A G    A A    G A    C A    A A    A A    G G    A A   \n",
       "1      2    A G    A G    C A    A A    A A    A G    A A    G A    A A   \n",
       "2      2    G G    G G    A A    G A    C C    G G    A A    G A    G A   \n",
       "3      1    A A    G G    A A    G A    A A    G G    G G    A A    G G   \n",
       "4      2    G G    G G    C C    A A    C C    A A    A A    A A    A A   \n",
       "\n",
       "  SNP_10 SNP_11 SNP_12 SNP_13 SNP_14 SNP_15 class  \n",
       "0    G G    A G    A A    A A    A A    A A     B  \n",
       "1    A G    A A    G A    G G    A A    A A     C  \n",
       "2    A G    A A    A A    A A    A A    A A     B  \n",
       "3    A G    G G    G G    G G    A A    G G     A  \n",
       "4    G G    A A    A A    A G    A A    G A     C  "
      ]
     },
     "execution_count": 10,
     "metadata": {},
     "output_type": "execute_result"
    }
   ],
   "source": [
    "data = raw_data.copy()\n",
    "data = data.drop(columns=['id','father','mother','gender'])\n",
    "data.head()"
   ]
  },
  {
   "cell_type": "code",
   "execution_count": 14,
   "metadata": {},
   "outputs": [
    {
     "data": {
      "text/plain": [
       "array(['A'], dtype=object)"
      ]
     },
     "execution_count": 14,
     "metadata": {},
     "output_type": "execute_result"
    }
   ],
   "source": [
    "data.query('trait == 1')['class'].unique()"
   ]
  },
  {
   "cell_type": "code",
   "execution_count": 15,
   "metadata": {},
   "outputs": [
    {
     "data": {
      "text/plain": [
       "array(['B', 'C'], dtype=object)"
      ]
     },
     "execution_count": 15,
     "metadata": {},
     "output_type": "execute_result"
    }
   ],
   "source": [
    "data.query('trait == 2')['class'].unique()"
   ]
  },
  {
   "cell_type": "code",
   "execution_count": 19,
   "metadata": {},
   "outputs": [],
   "source": [
    "BC_data = data.query('trait == 2').drop(columns='trait')"
   ]
  },
  {
   "cell_type": "code",
   "execution_count": 21,
   "metadata": {},
   "outputs": [],
   "source": [
    "BC_data_x = BC_data.drop(columns='class')\n",
    "BC_data_y = BC_data['class']"
   ]
  },
  {
   "cell_type": "code",
   "execution_count": null,
   "metadata": {},
   "outputs": [],
   "source": []
  }
 ],
 "metadata": {
  "kernelspec": {
   "display_name": "base",
   "language": "python",
   "name": "python3"
  },
  "language_info": {
   "codemirror_mode": {
    "name": "ipython",
    "version": 3
   },
   "file_extension": ".py",
   "mimetype": "text/x-python",
   "name": "python",
   "nbconvert_exporter": "python",
   "pygments_lexer": "ipython3",
   "version": "3.9.13"
  },
  "orig_nbformat": 4,
  "vscode": {
   "interpreter": {
    "hash": "6b921c805efb5a632375e577b3e33d338c143f0ce160c7afb22588d0b5f12378"
   }
  }
 },
 "nbformat": 4,
 "nbformat_minor": 2
}
